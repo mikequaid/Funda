{
 "cells": [
  {
   "cell_type": "markdown",
   "metadata": {},
   "source": [
    "Background and overview of the dataset\n",
    "\n",
    "\"Graphs are essential to good statistical analysis\"\n",
    "\n",
    "Francis Anscombe was an English statistician, who in 1973 published a highly relevant and timeless paper called Graphs in Statistical Analysis, which was intended to counter the impression among statisticians that \"numerical calcutions are exact but graphs are rough\" [3].\n",
    "Anscombe's quartet is a set of four small datasets where each produces almost identical summary statistics (mean, standard deviation, variance and correlations), which could lead most laypersons to infer that the datasets are very similar [1].\n",
    "However, while the statistical properties prove to be near identical, visualizing (plotting) the data reveals instead that the datasets are in fact notably different.\n",
    "Anscombe published this paper in order to demonstrate the importance of plotting data before analyzing it, and to show the effect outliers can have on statistical properties [2]. In his paper he makes the astute observation that very little attention is given to plots and that most people avoid making assumptions such as:\n",
    "•\tNumerical calculations are very precise while graphs are \"rough\".\n",
    "•\tFor any kind of statistical data there exists only one set of calulations which results in an accurate analysis.\n",
    "•\tAnd that performing calculations is something of a virtue while looking at the plotted data is \"cheating\" [2].\n",
    "Anscombe asserts that computers should produce both calculations and plots and that both must be studied because each will contribute to understanding. Indeed, by looking at the qualities and features of Anscombe's dataset and by understanding his analyses, we can better appreciate his observational stance on the matter.\n"
   ]
  },
  {
   "cell_type": "code",
   "execution_count": null,
   "metadata": {},
   "outputs": [],
   "source": []
  }
 ],
 "metadata": {
  "kernelspec": {
   "display_name": "Python 3",
   "language": "python",
   "name": "python3"
  },
  "language_info": {
   "codemirror_mode": {
    "name": "ipython",
    "version": 3
   },
   "file_extension": ".py",
   "mimetype": "text/x-python",
   "name": "python",
   "nbconvert_exporter": "python",
   "pygments_lexer": "ipython3",
   "version": "3.6.4"
  }
 },
 "nbformat": 4,
 "nbformat_minor": 2
}
